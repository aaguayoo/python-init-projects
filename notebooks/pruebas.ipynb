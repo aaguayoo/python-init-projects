{
 "cells": [
  {
   "cell_type": "code",
   "execution_count": 21,
   "id": "82c415bb-df20-4fc3-a363-4c3e8cfadd8a",
   "metadata": {
    "tags": []
   },
   "outputs": [
    {
     "data": {
      "text/plain": [
       "'“The cold of late winter was stubbornly lingering, and my wife looked chilly as she stood in the car park dressed in only a thin spring coat. She hadn’t said a single word on the way here, but I convinced myself that this wouldn’t be a problem. There’s nothing wrong with keeping quiet; after all, hadn’t women traditionally been expected to be demure and restrained?\\nMy boss, the managing director and the executive director had already arrived, along with their wives. The section chief and his wife turned up a few minutes after us, completing the party. There were nods and smiles all around as we exchanged greetings, took off our coats and hung them up. My boss’s wife, an imposing woman with finely plucked eyebrows and a large jade necklace clacking at her throat, escorted my wife and me over to the dining table, already laid for what promised to be a lavish meal, and sat down at the head of the table. The others all seemed quite at ease, like regulars. I took my seat, careful not to be seen to gawp at the ornate ceiling, which was as elaborately decorated as the eaves of a traditional[…]”\\n\\n'"
      ]
     },
     "execution_count": 21,
     "metadata": {},
     "output_type": "execute_result"
    }
   ],
   "source": [
    "def extraer_texto_txt(archivo: str) -> str:\n",
    "    texto = archivo.read()\n",
    "    return texto\n",
    "  \n",
    "#extraer_texto_txt(open(\"texto_prueba_txt.txt\", \"r\"))"
   ]
  },
  {
   "cell_type": "code",
   "execution_count": 61,
   "id": "809940f3-deed-4337-bd6b-cc6e5d602f86",
   "metadata": {
    "tags": []
   },
   "outputs": [
    {
     "data": {
      "text/plain": [
       "'“The cold of late winter was stubbornly lingering, and my wife looked chilly as she stood in the \\ncar park dressed in only a thin spring coat. She hadn’t said a single word on the way here, but I \\nconvinced myself that this wouldn’t be a problem. There’s nothing wrong with keeping quiet; \\nafter all, hadn’t women traditionally been expected to be demure and restrained? \\nMy boss, the managing director and the executive director had already arrived, along with their \\nwives. The section chief and his wife turned up a few minutes after us, completing the party. \\nThere were nods and smiles all around as we exchanged greetings, took off our coats and \\nhung them up. My boss’s wife, an imposing woman with finely plucked eyebrows and a large \\njade necklace clacking at her throat, escorted my wife and me over to the dining table, already \\nlaid for what promised to be a lavish meal, and sat down at the head of the table. The others all \\nseemed quite at ease, like regulars. I took my seat, careful not to be seen to gawp at the ornate \\nceiling, which was as elaborately decorated as the eaves of a traditional[…]” \\nFragmento de \\nThe Vegetarian \\nHan Kang \\nEs posible que este material esté protegido por copyright. \\n'"
      ]
     },
     "execution_count": 61,
     "metadata": {},
     "output_type": "execute_result"
    }
   ],
   "source": [
    "import fitz\n",
    "import re\n",
    "import pandas\n",
    "\n",
    "def extraer_texto_pdf (archivo: str) -> str:\n",
    "    with fitz.open(archivo) as doc:\n",
    "        text = \"\"\n",
    "        for page in doc:\n",
    "            text += page.get_text()\n",
    "    text = text.replace('�','')\n",
    "    return text\n",
    "#extraer_texto_pdf (\"texto_prueba_pdf.pdf\")"
   ]
  },
  {
   "cell_type": "code",
   "execution_count": 22,
   "id": "6f01183c-f9a1-4b39-970e-2c4389e1e37f",
   "metadata": {
    "tags": []
   },
   "outputs": [
    {
     "data": {
      "text/plain": [
       "<docx.document.Document at 0x1209e4fe0>"
      ]
     },
     "execution_count": 22,
     "metadata": {},
     "output_type": "execute_result"
    }
   ],
   "source": [
    "def extraer_texto_pdf (archivo: str) -> str:\n",
    "    import docx\n",
    "    texto = docx.Document(archivo)\n",
    "    return texto\n",
    "extraer_texto_pdf (\"texto_prueba_doc.docx\")"
   ]
  },
  {
   "cell_type": "code",
   "execution_count": null,
   "id": "76b3ae6b-2d5c-4243-9384-ffa6707b8476",
   "metadata": {},
   "outputs": [],
   "source": []
  }
 ],
 "metadata": {
  "kernelspec": {
   "display_name": "Poetry",
   "language": "python",
   "name": "poetry-kernel"
  },
  "language_info": {
   "codemirror_mode": {
    "name": "ipython",
    "version": 3
   },
   "file_extension": ".py",
   "mimetype": "text/x-python",
   "name": "python",
   "nbconvert_exporter": "python",
   "pygments_lexer": "ipython3",
   "version": "3.12.1"
  }
 },
 "nbformat": 4,
 "nbformat_minor": 5
}
