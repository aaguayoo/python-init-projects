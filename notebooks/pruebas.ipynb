{
 "cells": [
  {
   "cell_type": "markdown",
   "id": "8e91581e-122c-4d93-8780-7c71f10b3d22",
   "metadata": {
    "tags": []
   },
   "source": [
    "## Extractor de txt "
   ]
  },
  {
   "cell_type": "code",
   "execution_count": 3,
   "id": "82c415bb-df20-4fc3-a363-4c3e8cfadd8a",
   "metadata": {
    "tags": []
   },
   "outputs": [],
   "source": [
    "\"\"\"TXT Text Extractor\n",
    "In this fill is contened the funtion needed for extracting text from TXT file.\"\"\"\n",
    "\n",
    "def extract_text_txt(file: str) -> str:\n",
    "   \n",
    "    \"\"\"This funtion the text from TXT file.\n",
    "    Args:\n",
    "        file(str):\n",
    "        txt file.\n",
    "    Returns:\n",
    "        str: The extracted text from txt file.\n",
    "    Raises:\n",
    "        ValueError: If fike is not a txt file.\n",
    "    \"\"\"\n",
    "    try:\n",
    "        texto = file.read()\n",
    "    except Exception:\n",
    "        raise ValueError(\"The file is not a TXT file.\")\n",
    "    return texto\n",
    "\n",
    "#extract_text_txt(open(\"texto_prueba_txt.txt\", \"r\"))"
   ]
  },
  {
   "cell_type": "markdown",
   "id": "f77d25f1-2ebf-4017-b70e-6ca293d156ae",
   "metadata": {},
   "source": [
    "### Extractor de docx empleado "
   ]
  },
  {
   "cell_type": "code",
   "execution_count": 49,
   "id": "2278ca1e-4101-47da-a8c4-a62cc5c047e9",
   "metadata": {
    "tags": []
   },
   "outputs": [],
   "source": [
    "\"\"\"DOCX Text Extractor\n",
    "In this file is contained the function needed for extracting text from a DOCX file.\"\"\"\n",
    "\n",
    "from docx import Document\n",
    "\n",
    "def extract_text_docx(file: str) -> str:\n",
    "    \"\"\"This funtion the text from DOCX file.\n",
    "    Args:\n",
    "        file(str):\n",
    "        DOCX file.\n",
    "    Returns:\n",
    "        str: The extracted text from DOCX file.\n",
    "    Raises:\n",
    "        ValueError: If fike is not a DOCX file.\n",
    "    \"\"\"\n",
    "    try:\n",
    "        document = Document(file)\n",
    "    except:\n",
    "        raise ValueError(\"The file is not a valid DOCX file.\")\n",
    "    \n",
    "    return \"\\n\".join(paragraph.text for paragraph in document.paragraphs).strip()\n",
    "\n",
    "#extract_text_docx(\"texto_prueba_doc.docx\")\n"
   ]
  },
  {
   "cell_type": "markdown",
   "id": "fb6df968-f6d8-4a7f-90a8-6959e1efaae5",
   "metadata": {},
   "source": [
    "## Extractores de pdf"
   ]
  },
  {
   "cell_type": "code",
   "execution_count": 17,
   "id": "809940f3-deed-4337-bd6b-cc6e5d602f86",
   "metadata": {
    "tags": []
   },
   "outputs": [],
   "source": [
    "import fitz\n",
    "import re\n",
    "import pandas\n",
    "\n",
    "def extraer_texto_pdf (archivo: str) -> str:\n",
    "    with fitz.open(archivo) as doc:\n",
    "        text = \"\"\n",
    "        for page in doc:\n",
    "            text += page.get_text()\n",
    "    text = text.replace('�','')\n",
    "    return text\n",
    "#extraer_texto_pdf (\"texto_prueba_pdf.doc\")"
   ]
  },
  {
   "cell_type": "markdown",
   "id": "f988dbb6-db3b-4b92-a16e-f5e4f6ef5373",
   "metadata": {},
   "source": [
    "## Correciones estilo"
   ]
  },
  {
   "cell_type": "code",
   "execution_count": 65,
   "id": "ecd37ad4-1ce2-4e15-aade-47a3e47c6926",
   "metadata": {
    "tags": []
   },
   "outputs": [],
   "source": [
    "\"\"\"PDF Text Extractor\n",
    "This file contains the function needed for extracting text from a PDF file.\"\"\"\n",
    "\n",
    "import fitz\n",
    "\n",
    "def extract_text_pdf(file: str) -> str:\n",
    "    \"\"\"\n",
    "    This function extracts the text from a PDF file.\n",
    "    Args:\n",
    "        file (str): PDF file.\n",
    "    Returns:\n",
    "        str: The extracted text from the PDF file.\n",
    "    Raises:\n",
    "        ValueError: If the file is not a PDF.\n",
    "    \"\"\"\n",
    "    try:\n",
    "        with fitz.open(file) as doc:\n",
    "            text = \"\"\n",
    "            for page in doc:\n",
    "                text += page.get_text()\n",
    "            text = text.replace('�', '')\n",
    "        return text\n",
    "    except Exception:\n",
    "        raise ValueError(\"The file is not a valid PDF.\")\n",
    "\n",
    "#extract_text_pdf(\"texto_prueba_pdf.pdf\")\n"
   ]
  },
  {
   "cell_type": "code",
   "execution_count": 54,
   "id": "d0b6af72-3734-475a-9729-dee2825bdb53",
   "metadata": {
    "tags": []
   },
   "outputs": [],
   "source": [
    "\"\"\"PDF Text Extractor\n",
    "This file contains the function needed for extracting text from a PDF file.\"\"\"\n",
    "\n",
    "import fitz\n",
    "\n",
    "def extract_text_pdf(file: str) -> str:\n",
    "    \"\"\"\n",
    "    This function extracts the text from a PDF file.\n",
    "    Args:\n",
    "        file (str): PDF file.\n",
    "    Returns:\n",
    "        str: The extracted text from the PDF file.\n",
    "    Raises:\n",
    "        ValueError: If the file is not a PDF.\n",
    "    \"\"\"\n",
    "    try:\n",
    "        doc = fitz.open(file)\n",
    "    except Exception:\n",
    "        raise ValueError(\"The file is not a valid PDF.\")\n",
    "    \n",
    "    return \"n\".join(page.get_text() for page in doc).strip() \n",
    "\n",
    "#extract_text_pdf(\"texto_prueba_pdf.pdf\")"
   ]
  },
  {
   "cell_type": "code",
   "execution_count": 22,
   "id": "dc6171d9-4900-4842-9a4e-061994f92c25",
   "metadata": {
    "tags": []
   },
   "outputs": [],
   "source": [
    "def format_text(file: str) -> str:\n",
    "        \n",
    "    \"\"\"\n",
    "    This function replaces '?' with ' ' in the text of a file.\n",
    "    Args:\n",
    "        file (str): Extracted text from a file.\n",
    "    Returns:\n",
    "        str: The extracted text from a file with '?' replaced by ' '.\n",
    "    \"\"\"\n",
    "    \n",
    "    text = file.replace('�', '')\n",
    "    return text\n",
    "\n",
    "#format_text(extract_text_pdf(\"texto_prueba_pdf.pdf\"))"
   ]
  },
  {
   "cell_type": "markdown",
   "id": "3cc887a8-961d-44ec-8a35-bbbeefb90400",
   "metadata": {},
   "source": [
    "## Extractor ppxt"
   ]
  },
  {
   "cell_type": "code",
   "execution_count": 77,
   "id": "76b3ae6b-2d5c-4243-9384-ffa6707b8476",
   "metadata": {},
   "outputs": [],
   "source": [
    "#código original\n",
    "\n",
    "#from pptx import Presentation\n",
    "#import glob\n",
    "\n",
    "#for eachfile in glob.glob(\"texto_prueba_pptx.pptx\"):\n",
    "    #prs = Presentation(eachfile)\n",
    "    #print(eachfile)\n",
    "    #print(\"----------------------\")\n",
    "    #for slide in prs.slides:\n",
    "        #for shape in slide.shapes:\n",
    "            #if hasattr(shape, \"text\"):\n",
    "                #print(shape.text)"
   ]
  },
  {
   "cell_type": "code",
   "execution_count": 24,
   "id": "1b40bd09-be49-4b62-ba25-57f4f773ab6f",
   "metadata": {},
   "outputs": [],
   "source": [
    "\"\"\"PPTX Text Extractor\n",
    "This file contains the function needed for extracting text from a PPTX file.\"\"\"\n",
    "\n",
    "from pptx import Presentation \n",
    "\n",
    "def extract_text_ppptx(file: str) -> str:\n",
    "    \"\"\"\n",
    "    This function extracts the text from a PPTX file.\n",
    "    Args:\n",
    "        file (str): PPTX file.\n",
    "    Returns:\n",
    "        str: The extracted text from the PPTX file.\n",
    "    Raises:\n",
    "        ValueError: If the file is not a PPTX.\n",
    "    \"\"\"\n",
    "    try:\n",
    "        file = Presentation(file)\n",
    "    except Exception: \n",
    "        raise ValueError(\"The file is not a valid PPTX.\")  \n",
    "\n",
    "    text = \"\"\n",
    "    for slide in file.slides:\n",
    "        for shape in slide.shapes:\n",
    "             if hasattr(shape, \"text\"):\n",
    "                text = shape.text\n",
    "    return text\n",
    "\n",
    "#extract_text_ppptx(\"texto_prueba_pptx.pptx\")\n"
   ]
  },
  {
   "cell_type": "code",
   "execution_count": null,
   "id": "d8218a8f-80c4-404a-9cc2-1a414be5bbab",
   "metadata": {},
   "outputs": [],
   "source": [
    "#así se ve el inicial \n",
    "    \n",
    "    text = \"\"\n",
    "    for paragraph in document.paragraphs:\n",
    "        text += paragraph.text + \"\\n\"\n",
    "    return text.strip()\n",
    "\n",
    "\n",
    "return \"\\n\".join(paragraph.text for paragraph in document.paragraphs).strip()"
   ]
  }
 ],
 "metadata": {
  "kernelspec": {
   "display_name": "Poetry",
   "language": "python",
   "name": "poetry-kernel"
  },
  "language_info": {
   "codemirror_mode": {
    "name": "ipython",
    "version": 3
   },
   "file_extension": ".py",
   "mimetype": "text/x-python",
   "name": "python",
   "nbconvert_exporter": "python",
   "pygments_lexer": "ipython3",
   "version": "3.12.1"
  }
 },
 "nbformat": 4,
 "nbformat_minor": 5
}
