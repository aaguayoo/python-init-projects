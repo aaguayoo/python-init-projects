{
 "cells": [
  {
   "cell_type": "markdown",
   "id": "8e91581e-122c-4d93-8780-7c71f10b3d22",
   "metadata": {
    "tags": []
   },
   "source": [
    "## Extractor de txt "
   ]
  },
  {
   "cell_type": "code",
   "execution_count": 8,
   "id": "82c415bb-df20-4fc3-a363-4c3e8cfadd8a",
   "metadata": {
    "tags": []
   },
   "outputs": [],
   "source": [
    "def extraer_texto_txt(archivo: str) -> str:\n",
    "    texto = archivo.read()\n",
    "    return texto\n",
    "  \n",
    "#extraer_texto_txt(open(\"texto_prueba_txt.txt\", \"r\"))"
   ]
  },
  {
   "cell_type": "markdown",
   "id": "66e87b9b-46c4-42e5-93fd-19bff3d76e46",
   "metadata": {},
   "source": [
    "## Extractores de pdf"
   ]
  },
  {
   "cell_type": "code",
   "execution_count": 9,
   "id": "809940f3-deed-4337-bd6b-cc6e5d602f86",
   "metadata": {
    "tags": []
   },
   "outputs": [],
   "source": [
    "import fitz\n",
    "import re\n",
    "import pandas\n",
    "\n",
    "def extraer_texto_pdf (archivo: str) -> str:\n",
    "    with fitz.open(archivo) as doc:\n",
    "        text = \"\"\n",
    "        for page in doc:\n",
    "            text += page.get_text()\n",
    "    text = text.replace('�','')\n",
    "    return text\n",
    "#extraer_texto_pdf (\"texto_prueba_pdf.pdf\")"
   ]
  },
  {
   "cell_type": "markdown",
   "id": "7576cb4c-1ca0-4451-a9ad-f9a75208f58e",
   "metadata": {},
   "source": [
    "### Extractor de pdf empleado "
   ]
  },
  {
   "cell_type": "code",
   "execution_count": 10,
   "id": "6f01183c-f9a1-4b39-970e-2c4389e1e37f",
   "metadata": {
    "tags": []
   },
   "outputs": [],
   "source": [
    "def extraer_texto_pdf (archivo: str) -> str:\n",
    "    import docx\n",
    "    texto = docx.Document(archivo)\n",
    "    return texto\n",
    "#extraer_texto_pdf (\"texto_prueba_doc.docx\")"
   ]
  },
  {
   "cell_type": "markdown",
   "id": "3cc887a8-961d-44ec-8a35-bbbeefb90400",
   "metadata": {},
   "source": [
    "## Extractor ppxt"
   ]
  },
  {
   "cell_type": "code",
   "execution_count": 2,
   "id": "76b3ae6b-2d5c-4243-9384-ffa6707b8476",
   "metadata": {},
   "outputs": [
    {
     "name": "stdout",
     "output_type": "stream",
     "text": [
      "texto_prueba_pptx.pptx\n",
      "----------------------\n",
      "“The cold of late winter was stubbornly lingering, and my wife looked chilly as she stood in the car park dressed in only a thin spring coat. She hadn’t said a single word on the way here, but I convinced myself that this wouldn’t be a problem. There’s nothing wrong with keeping quiet; after all, hadn’t women traditionally been expected to be demure and restrained? \n",
      "My boss, the managing director and the executive director had already arrived, along with their wives. The section chief and his wife turned up a few minutes after us, completing the party. There were nods and smiles all around as we exchanged greetings, took off our coats and hung them up. My boss’s wife, an imposing woman with finely plucked eyebrows and a large jade necklace clacking at her throat, escorted my wife and me over to the dining table, already laid for what promised to be a lavish meal, and sat down at the head of the table. The others all seemed quite at ease, like regulars. I took my seat, careful not to be seen to gawp at the ornate ceiling, which was as elaborately decorated as the eaves of a traditional[…]”\n"
     ]
    }
   ],
   "source": [
    "#código original\n",
    "\n",
    "from pptx import Presentation\n",
    "import glob\n",
    "\n",
    "for eachfile in glob.glob(\"texto_prueba_pptx.pptx\"):\n",
    "    prs = Presentation(eachfile)\n",
    "    print(eachfile)\n",
    "    print(\"----------------------\")\n",
    "    for slide in prs.slides:\n",
    "        for shape in slide.shapes:\n",
    "            if hasattr(shape, \"text\"):\n",
    "                print(shape.text)"
   ]
  },
  {
   "cell_type": "code",
   "execution_count": 6,
   "id": "928f87ac-9794-485d-bd11-ea9e6a2b0569",
   "metadata": {},
   "outputs": [
    {
     "data": {
      "text/plain": [
       "'texto_prueba_pptx.pptx'"
      ]
     },
     "execution_count": 6,
     "metadata": {},
     "output_type": "execute_result"
    }
   ],
   "source": [
    "#funcionamiento de cada parte del código\n",
    "#import Presentation from pptx (pip install python-pptx)\n",
    "#for each file in the directory (using glob module)\n",
    "#look in every slides and in every shape in each slide\n",
    "#if there is a shape with text attribute, print the shape.text\n",
    "\n",
    "from pptx import Presentation\n",
    "import glob\n",
    "\n",
    "def extraer_texto_ppptx (archivo: str) -> str:\n",
    "    for eachfile in glob.glob(archivo):\n",
    "        prs = Presentation(eachfile)\n",
    "        return archivo\n",
    "extraer_texto_ppptx(\"texto_prueba_pptx.pptx\")\n",
    "    "
   ]
  },
  {
   "cell_type": "code",
   "execution_count": null,
   "id": "002f7dc6-c161-4482-88de-4bd2225da9e3",
   "metadata": {},
   "outputs": [],
   "source": []
  }
 ],
 "metadata": {
  "kernelspec": {
   "display_name": "Poetry",
   "language": "python",
   "name": "poetry-kernel"
  },
  "language_info": {
   "codemirror_mode": {
    "name": "ipython",
    "version": 3
   },
   "file_extension": ".py",
   "mimetype": "text/x-python",
   "name": "python",
   "nbconvert_exporter": "python",
   "pygments_lexer": "ipython3",
   "version": "3.12.1"
  }
 },
 "nbformat": 4,
 "nbformat_minor": 5
}
