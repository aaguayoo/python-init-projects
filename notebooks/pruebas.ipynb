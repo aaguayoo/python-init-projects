{
 "cells": [
  {
   "cell_type": "code",
   "execution_count": 21,
   "id": "82c415bb-df20-4fc3-a363-4c3e8cfadd8a",
   "metadata": {
    "tags": []
   },
   "outputs": [
    {
     "data": {
      "text/plain": [
       "'“The cold of late winter was stubbornly lingering, and my wife looked chilly as she stood in the car park dressed in only a thin spring coat. She hadn’t said a single word on the way here, but I convinced myself that this wouldn’t be a problem. There’s nothing wrong with keeping quiet; after all, hadn’t women traditionally been expected to be demure and restrained?\\nMy boss, the managing director and the executive director had already arrived, along with their wives. The section chief and his wife turned up a few minutes after us, completing the party. There were nods and smiles all around as we exchanged greetings, took off our coats and hung them up. My boss’s wife, an imposing woman with finely plucked eyebrows and a large jade necklace clacking at her throat, escorted my wife and me over to the dining table, already laid for what promised to be a lavish meal, and sat down at the head of the table. The others all seemed quite at ease, like regulars. I took my seat, careful not to be seen to gawp at the ornate ceiling, which was as elaborately decorated as the eaves of a traditional[…]”\\n\\n'"
      ]
     },
     "execution_count": 21,
     "metadata": {},
     "output_type": "execute_result"
    }
   ],
   "source": [
    "def extraer_texto_txt(archivo: str) -> str:\n",
    "    texto = archivo.read()\n",
    "    return texto\n",
    "  \n",
    "#extraer_texto_txt(open(\"texto_prueba_txt.txt\", \"r\"))"
   ]
  },
  {
   "cell_type": "code",
   "execution_count": 41,
   "id": "6919261f-9568-48fc-b1c5-d33753d17812",
   "metadata": {},
   "outputs": [
    {
     "ename": "ModuleNotFoundError",
     "evalue": "No module named 'pypdf'",
     "output_type": "error",
     "traceback": [
      "\u001b[0;31m---------------------------------------------------------------------------\u001b[0m",
      "\u001b[0;31mModuleNotFoundError\u001b[0m                       Traceback (most recent call last)",
      "Cell \u001b[0;32mIn[41], line 1\u001b[0m\n\u001b[0;32m----> 1\u001b[0m \u001b[38;5;28;01mfrom\u001b[39;00m \u001b[38;5;21;01mpypdf\u001b[39;00m \u001b[38;5;28;01mimport\u001b[39;00m PdfReader\n",
      "\u001b[0;31mModuleNotFoundError\u001b[0m: No module named 'pypdf'"
     ]
    }
   ],
   "source": [
    "from pypdf import PdfReader\n",
    "     "
   ]
  },
  {
   "cell_type": "code",
   "execution_count": null,
   "id": "a5a48f06-c754-4d78-b11e-e9ffc46c9c50",
   "metadata": {},
   "outputs": [],
   "source": [
    "def extraer_texto_pdf(archivo: str) -> str:\n",
    "    texto = PdfReader(archivo)\n",
    "    return texto \n",
    "extraer_texto_pdf(texto_prueba.pdf)  \n",
    "  \n",
    "\n",
    "   \n"
   ]
  },
  {
   "cell_type": "code",
   "execution_count": null,
   "id": "07ebb2e2-47a3-4e9c-954d-07f5b1632eb6",
   "metadata": {},
   "outputs": [],
   "source": []
  }
 ],
 "metadata": {
  "kernelspec": {
   "display_name": "Poetry",
   "language": "python",
   "name": "poetry-kernel"
  },
  "language_info": {
   "codemirror_mode": {
    "name": "ipython",
    "version": 3
   },
   "file_extension": ".py",
   "mimetype": "text/x-python",
   "name": "python",
   "nbconvert_exporter": "python",
   "pygments_lexer": "ipython3",
   "version": "3.12.1"
  }
 },
 "nbformat": 4,
 "nbformat_minor": 5
}
